{
  "nbformat": 4,
  "nbformat_minor": 0,
  "metadata": {
    "colab": {
      "provenance": []
    },
    "kernelspec": {
      "name": "python3",
      "display_name": "Python 3"
    },
    "language_info": {
      "name": "python"
    }
  },
  "cells": [
    {
      "cell_type": "markdown",
      "source": [
        "# **Classification model**"
      ],
      "metadata": {
        "id": "g1Gv3BNVaBE9"
      }
    },
    {
      "cell_type": "markdown",
      "source": [
        "학습하기에 들어가기 전, 앞서 선택한 최종 변수들을 사용하여 학습/시험용 데이터를 생성하겠습니다."
      ],
      "metadata": {
        "id": "dq_0emkB3Id2"
      }
    },
    {
      "cell_type": "code",
      "source": [
        "x_data = df[['성별코드', '연령대 코드(5세단위)', '신장(5Cm단위)', '체중(5Kg 단위)', '허리둘레', \n",
        "             '시력(좌)', '시력(우)', '청력(좌)', '청력(우)', '식전혈당(공복혈당)', '혈색소', \n",
        "             '요단백', '혈청크레아티닌', '(혈청지오티)AST', '(혈청지오티)ALT', '감마 지티피', \n",
        "             '흡연상태', '음주여부', '구강검진 수검여부']]\n",
        "             \n",
        "y_data = df[['혈압상태']]"
      ],
      "metadata": {
        "id": "DIZk1Tr63GbJ"
      },
      "execution_count": null,
      "outputs": []
    },
    {
      "cell_type": "markdown",
      "source": [
        "7:3의 비율로 학습데이터와 검증데이터를 분리합니다."
      ],
      "metadata": {
        "id": "VBZiDo-y5OWW"
      }
    },
    {
      "cell_type": "code",
      "source": [
        "x_train, x_test, y_train, y_test = train_test_split(x_data, y_data, test_size=0.3, random_state=0, stratify = y_data)"
      ],
      "metadata": {
        "id": "CUbDLw_Q3GY3"
      },
      "execution_count": null,
      "outputs": []
    },
    {
      "cell_type": "markdown",
      "source": [
        "scale이 각각 다른 연속형 변수들의 값을 통일시키기 위해 표준화 작업을 수행합니다."
      ],
      "metadata": {
        "id": "daIJGlif43bN"
      }
    },
    {
      "cell_type": "code",
      "source": [
        "scaler = StandardScaler()\n",
        "cols_n = ['신장(5Cm단위)', '체중(5Kg 단위)', '허리둘레', '시력(좌)', '시력(우)', \n",
        "          '청력(좌)', '청력(우)', '식전혈당(공복혈당)', '혈색소', '요단백',\n",
        "          '혈청크레아티닌', '(혈청지오티)AST', '(혈청지오티)ALT', '감마 지티피']\n",
        "scaler.fit(x_train[cols_n])\n",
        "x_train[cols_n] = scaler.transform(x_train[cols_n])\n",
        "x_test[cols_n] = scaler.transform(x_test[cols_n])"
      ],
      "metadata": {
        "id": "KGY7SXJr3GWs"
      },
      "execution_count": null,
      "outputs": []
    },
    {
      "cell_type": "markdown",
      "source": [
        "\n",
        "Tensorflow와 Pytorch 기반의 심층 신경망 모델을 구축합니다. "
      ],
      "metadata": {
        "id": "IL890mHI5VYw"
      }
    },
    {
      "cell_type": "markdown",
      "source": [
        "### **Tensorflow**"
      ],
      "metadata": {
        "id": "C_fGD964Apoi"
      }
    },
    {
      "cell_type": "markdown",
      "source": [
        "Dense layer와 은닉층을 증가시켜보았지만, 성능 개선에 도움이 되지 않았습니다. \n",
        "\n",
        "    모델 복잡도 > 데이터 복잡도"
      ],
      "metadata": {
        "id": "vvaw7N_TGQvX"
      }
    },
    {
      "cell_type": "code",
      "source": [
        "model = tf.keras.models.Sequential([\n",
        "    tf.keras.layers.Dense(units = 128, activation = 'relu'), \n",
        "    tf.keras.layers.Dropout(rate = 0.2), \n",
        "    tf.keras.layers.Dense(units = 64, activation = 'relu'), \n",
        "    # tf.keras.layers.Dropout(rate = 0.2), \n",
        "    # tf.keras.layers.Dense(units = 32, activation = 'relu'), \n",
        "    # tf.keras.layers.Dropout(rate = 0.2),\n",
        "    # tf.keras.layers.Dense(units = 3, activation = 'relu'), \n",
        "    tf.keras.layers.Dense(units = 3, activation = 'softmax')\n",
        "])"
      ],
      "metadata": {
        "id": "oh7fyGVR3F92"
      },
      "execution_count": null,
      "outputs": []
    },
    {
      "cell_type": "code",
      "source": [
        "model.compile(optimizer = 'adam',\n",
        "              loss = 'sparse_categorical_crossentropy',\n",
        "              metrics = ['accuracy'])"
      ],
      "metadata": {
        "id": "06S9C8BJ5dSK"
      },
      "execution_count": null,
      "outputs": []
    },
    {
      "cell_type": "code",
      "source": [
        "x_train.shape, y_train.shape"
      ],
      "metadata": {
        "colab": {
          "base_uri": "https://localhost:8080/"
        },
        "id": "09CiK9uH5fp5",
        "outputId": "d7d8b2f9-55fc-4449-8fc1-6869d931af6e"
      },
      "execution_count": null,
      "outputs": [
        {
          "output_type": "execute_result",
          "data": {
            "text/plain": [
              "((686093, 19), (686093, 1))"
            ]
          },
          "metadata": {},
          "execution_count": 25
        }
      ]
    },
    {
      "cell_type": "code",
      "source": [
        "## 조기 종료 옵션\n",
        "\n",
        "early_stopping = EarlyStopping(\n",
        "                    monitor='val_accuracy', \n",
        "                    patience=5, \n",
        "                    verbose=1, \n",
        "                    mode='auto', \n",
        "                    restore_best_weights=True\n",
        ")"
      ],
      "metadata": {
        "id": "uPFhEW0t5jtW"
      },
      "execution_count": null,
      "outputs": []
    },
    {
      "cell_type": "code",
      "source": [
        "## 학습 시작\n",
        "\n",
        "history = model.fit(x_train, y_train.iloc[:,-1], \n",
        "                    validation_data = (x_test, y_test), \n",
        "                    batch_size = 50, epochs = 50,\n",
        "                    callbacks = [early_stopping])"
      ],
      "metadata": {
        "id": "ABb1mi9M5ts3",
        "colab": {
          "base_uri": "https://localhost:8080/"
        },
        "outputId": "9f36389d-51e9-41b7-c8bb-71e5ef2e7dd5"
      },
      "execution_count": null,
      "outputs": [
        {
          "output_type": "stream",
          "name": "stdout",
          "text": [
            "Epoch 1/50\n",
            "13722/13722 [==============================] - 61s 4ms/step - loss: 1.0199 - accuracy: 0.4936 - val_loss: 1.0147 - val_accuracy: 0.4972\n",
            "Epoch 2/50\n",
            "13722/13722 [==============================] - 63s 5ms/step - loss: 1.0147 - accuracy: 0.4975 - val_loss: 1.0141 - val_accuracy: 0.4977\n",
            "Epoch 3/50\n",
            "13722/13722 [==============================] - 63s 5ms/step - loss: 1.0137 - accuracy: 0.4977 - val_loss: 1.0149 - val_accuracy: 0.4969\n",
            "Epoch 4/50\n",
            "13722/13722 [==============================] - 65s 5ms/step - loss: 1.0133 - accuracy: 0.4985 - val_loss: 1.0128 - val_accuracy: 0.4976\n",
            "Epoch 5/50\n",
            "13722/13722 [==============================] - 62s 5ms/step - loss: 1.0129 - accuracy: 0.4983 - val_loss: 1.0138 - val_accuracy: 0.4982\n",
            "Epoch 6/50\n",
            "13722/13722 [==============================] - 53s 4ms/step - loss: 1.0126 - accuracy: 0.4990 - val_loss: 1.0134 - val_accuracy: 0.4980\n",
            "Epoch 7/50\n",
            "13722/13722 [==============================] - 53s 4ms/step - loss: 1.0125 - accuracy: 0.4988 - val_loss: 1.0120 - val_accuracy: 0.4983\n",
            "Epoch 8/50\n",
            "13722/13722 [==============================] - 53s 4ms/step - loss: 1.0124 - accuracy: 0.4992 - val_loss: 1.0139 - val_accuracy: 0.4973\n",
            "Epoch 9/50\n",
            "13722/13722 [==============================] - 62s 5ms/step - loss: 1.0124 - accuracy: 0.4992 - val_loss: 1.0143 - val_accuracy: 0.4981\n",
            "Epoch 10/50\n",
            "13722/13722 [==============================] - 54s 4ms/step - loss: 1.0122 - accuracy: 0.4990 - val_loss: 1.0128 - val_accuracy: 0.4980\n",
            "Epoch 11/50\n",
            "13722/13722 [==============================] - 62s 5ms/step - loss: 1.0120 - accuracy: 0.4991 - val_loss: 1.0130 - val_accuracy: 0.4978\n",
            "Epoch 12/50\n",
            "13717/13722 [============================>.] - ETA: 0s - loss: 1.0119 - accuracy: 0.4993Restoring model weights from the end of the best epoch: 7.\n",
            "13722/13722 [==============================] - 53s 4ms/step - loss: 1.0119 - accuracy: 0.4993 - val_loss: 1.0130 - val_accuracy: 0.4983\n",
            "Epoch 12: early stopping\n"
          ]
        }
      ]
    },
    {
      "cell_type": "code",
      "source": [
        "# 검증 결과 \n",
        "\n",
        "model.evaluate(x_test, y_test)"
      ],
      "metadata": {
        "id": "8ilSGGgx5tqo",
        "colab": {
          "base_uri": "https://localhost:8080/"
        },
        "outputId": "9de631ec-1b1d-4c04-d63a-3f6a7b5a2053"
      },
      "execution_count": null,
      "outputs": [
        {
          "output_type": "stream",
          "name": "stdout",
          "text": [
            "9189/9189 [==============================] - 24s 3ms/step - loss: 1.0120 - accuracy: 0.4983\n"
          ]
        },
        {
          "output_type": "execute_result",
          "data": {
            "text/plain": [
              "[1.011994481086731, 0.49831655621528625]"
            ]
          },
          "metadata": {},
          "execution_count": 28
        }
      ]
    }
  ]
}